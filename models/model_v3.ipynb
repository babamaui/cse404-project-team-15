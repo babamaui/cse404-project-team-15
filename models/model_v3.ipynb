{
 "cells": [
  {
   "cell_type": "markdown",
   "id": "5e040ec1-8705-4f3e-a020-dc08409d03b8",
   "metadata": {},
   "source": [
    "## Same intial loading and cleaning steps ##"
   ]
  },
  {
   "cell_type": "code",
   "execution_count": 1,
   "id": "4147e45f",
   "metadata": {},
   "outputs": [],
   "source": [
    "# Image Preparation Imports\n",
    "import cv2\n",
    "import pandas as pd \n",
    "import numpy as np\n",
    "import datetime\n",
    "import matplotlib.pyplot as plt\n",
    "from glob import glob\n",
    "from scipy.io import loadmat\n",
    "from sklearn.model_selection import train_test_split\n",
    "\n",
    "import tensorflow as tf\n",
    "from tensorflow.keras.models import Sequential\n",
    "from tensorflow.keras.layers import Conv2D, MaxPooling2D, Flatten, Dense, Dropout\n",
    "from tensorflow.keras.optimizers import Adam\n",
    "\n",
    "file_name = '../data/wiki.mat'\n",
    "\n",
    "def matlab_datenum_to_date(matlab_dn):\n",
    "    return datetime.date.fromordinal(int(matlab_dn) - 366)\n",
    "\n",
    "def compute_wiki_age(photo_year, birth_datenum):\n",
    "    photo_date = datetime.date(photo_year, 7, 1)\n",
    "    birth_date = matlab_datenum_to_date(birth_datenum)\n",
    "    delta = photo_date - birth_date\n",
    "    return delta.days / 365.2425\n",
    "\n",
    "\n",
    "def process_matfile(file_name):\n",
    "    # Load the data\n",
    "    data = loadmat(file_name)['wiki'][0, 0]\n",
    "    data_dict = {key: data[key] for key in data.dtype.names}\n",
    "\n",
    "    # Convert data into filename-based dictionary\n",
    "    filename_dict = {}\n",
    "\n",
    "    for i in range(len(data_dict['full_path'][0])):\n",
    "        # Remove invalid faces\n",
    "        if np.isinf(data_dict['face_score'][0][i]) or not np.isnan(data_dict['second_face_score'][0][i]):\n",
    "            continue\n",
    "\n",
    "        filename = data_dict['full_path'][0][i][0]\n",
    "        filename_dict[filename] = compute_wiki_age(data_dict['photo_taken'][0][i], data_dict['dob'][0][i])\n",
    "\n",
    "    return filename_dict\n",
    "\n",
    "# Load filenames anda ssociated data\n",
    "data = process_matfile(file_name)"
   ]
  },
  {
   "cell_type": "code",
   "execution_count": 2,
   "id": "de848d31-42b3-4271-b295-9986f432db6e",
   "metadata": {},
   "outputs": [
    {
     "name": "stdout",
     "output_type": "stream",
     "text": [
      "40216\n",
      "38.60996556567274\n",
      "40147\n",
      "1.3525260614523227 99.87337180092678\n"
     ]
    }
   ],
   "source": [
    "#some data cleaning to get rid of excessively large or negative values in the predicted age category\n",
    "print(len(data))\n",
    "mean_val = sum(data.values()) / len(data)\n",
    "print(mean_val)\n",
    "for key in list(data.keys()):\n",
    "    if data[key] > 100 or data[key] < 1:\n",
    "        del data[key]\n",
    "print(len(data))\n",
    "print(min(data.values()), max(data.values()))"
   ]
  },
  {
   "cell_type": "code",
   "execution_count": 4,
   "id": "52c154cb-9def-4a6c-a7c5-d748c77d8d8d",
   "metadata": {},
   "outputs": [
    {
     "name": "stdout",
     "output_type": "stream",
     "text": [
      "Number of images loaded: 40147\n"
     ]
    }
   ],
   "source": [
    "# Load in images\n",
    "images = []\n",
    "for i in data.keys():  \n",
    "    img = cv2.imread('../data/wiki_crop/'+i)\n",
    "    images.append(img)\n",
    "\n",
    "print(f\"Number of images loaded: {len(images)}\")"
   ]
  },
  {
   "cell_type": "code",
   "execution_count": 5,
   "id": "0c1beabd-ca4a-4268-ab39-313b827a6e28",
   "metadata": {},
   "outputs": [],
   "source": [
    "#resize all images (can change width and height to what we find to be best)\n",
    "new_images = []\n",
    "width = 128\n",
    "height = 128\n",
    "for image in images:\n",
    "    new_im = cv2.resize(image, (width, height), interpolation=cv2.INTER_LINEAR)\n",
    "    new_im = cv2.cvtColor((cv2.resize(image, (width,height), interpolation=cv2.INTER_LINEAR)), cv2.COLOR_BGR2RGB)\n",
    "    new_images.append(new_im)"
   ]
  },
  {
   "cell_type": "code",
   "execution_count": 6,
   "id": "d9483bb2-6f04-4b98-b0bb-63df96f5b597",
   "metadata": {},
   "outputs": [],
   "source": [
    "classification = [data[key] for key in data.keys()]"
   ]
  },
  {
   "cell_type": "code",
   "execution_count": 7,
   "id": "0964e931-582f-4e40-8170-c7a97fba9394",
   "metadata": {},
   "outputs": [],
   "source": [
    "# split in to train and test sets\n",
    "x_train, x_test, y_train, y_test = train_test_split(new_images, classification, test_size = 0.2, random_state = 42)"
   ]
  },
  {
   "cell_type": "code",
   "execution_count": 8,
   "id": "60bca587-84dd-4c09-9ae0-1c893c8f1fae",
   "metadata": {},
   "outputs": [
    {
     "name": "stdout",
     "output_type": "stream",
     "text": [
      "X_train shape: (32117, 128, 128, 3)\n",
      "y_train shape: (32117,)\n"
     ]
    }
   ],
   "source": [
    "# Normalize pixel values to range [0, 1]\n",
    "X_train = np.array(x_train, dtype='float32') / 255.0\n",
    "X_test = np.array(x_test, dtype='float32') / 255.0\n",
    "\n",
    "y_train = np.array(y_train, dtype='float32')\n",
    "y_test = np.array(y_test, dtype='float32')\n",
    "\n",
    "# Print shapes\n",
    "print(\"X_train shape:\", X_train.shape)\n",
    "print(\"y_train shape:\", y_train.shape)"
   ]
  },
  {
   "cell_type": "code",
   "execution_count": 9,
   "id": "09711e33-2a6d-4552-8391-7ac96d303d2d",
   "metadata": {},
   "outputs": [],
   "source": [
    "model = Sequential([\n",
    "    Conv2D(32, kernel_size=(3, 3), activation='relu'),\n",
    "    MaxPooling2D(pool_size=(2, 2)),\n",
    "\n",
    "    Conv2D(64, kernel_size=(3, 3), activation='relu'),\n",
    "    MaxPooling2D(pool_size=(2, 2)),\n",
    "\n",
    "    Conv2D(128, kernel_size=(3, 3), activation='relu'),\n",
    "    MaxPooling2D(pool_size=(2, 2)),   \n",
    "\n",
    "    Conv2D(256, kernel_size=(3, 3), activation='relu'),\n",
    "    MaxPooling2D(pool_size=(2, 2)),   \n",
    "\n",
    "    Flatten(),\n",
    "\n",
    "    Dense(256, activation='relu'),\n",
    "\n",
    "    Dense(1)\n",
    "])\n",
    "\n",
    "model.compile(\n",
    "    optimizer=Adam(learning_rate=0.001),\n",
    "    loss='mean_squared_error',\n",
    "    metrics=['mae', 'accuracy']  \n",
    ")"
   ]
  },
  {
   "cell_type": "code",
   "execution_count": 10,
   "id": "24bcd747-3ff4-42d0-a20b-bc46fe1cdc4d",
   "metadata": {},
   "outputs": [
    {
     "name": "stdout",
     "output_type": "stream",
     "text": [
      "Epoch 1/50\n",
      "\u001b[1m904/904\u001b[0m \u001b[32m━━━━━━━━━━━━━━━━━━━━\u001b[0m\u001b[37m\u001b[0m \u001b[1m61s\u001b[0m 65ms/step - accuracy: 0.0000e+00 - loss: 314.8134 - mae: 13.7030 - val_accuracy: 0.0000e+00 - val_loss: 204.1460 - val_mae: 10.9587\n",
      "Epoch 2/50\n",
      "\u001b[1m904/904\u001b[0m \u001b[32m━━━━━━━━━━━━━━━━━━━━\u001b[0m\u001b[37m\u001b[0m \u001b[1m64s\u001b[0m 71ms/step - accuracy: 0.0000e+00 - loss: 185.4858 - mae: 10.5754 - val_accuracy: 0.0000e+00 - val_loss: 172.2542 - val_mae: 9.9286\n",
      "Epoch 3/50\n",
      "\u001b[1m904/904\u001b[0m \u001b[32m━━━━━━━━━━━━━━━━━━━━\u001b[0m\u001b[37m\u001b[0m \u001b[1m63s\u001b[0m 69ms/step - accuracy: 0.0000e+00 - loss: 161.7432 - mae: 9.8084 - val_accuracy: 0.0000e+00 - val_loss: 145.7001 - val_mae: 9.2438\n",
      "Epoch 4/50\n",
      "\u001b[1m904/904\u001b[0m \u001b[32m━━━━━━━━━━━━━━━━━━━━\u001b[0m\u001b[37m\u001b[0m \u001b[1m57s\u001b[0m 62ms/step - accuracy: 0.0000e+00 - loss: 137.9776 - mae: 8.9793 - val_accuracy: 0.0000e+00 - val_loss: 147.4677 - val_mae: 9.6286\n",
      "Epoch 5/50\n",
      "\u001b[1m904/904\u001b[0m \u001b[32m━━━━━━━━━━━━━━━━━━━━\u001b[0m\u001b[37m\u001b[0m \u001b[1m56s\u001b[0m 62ms/step - accuracy: 0.0000e+00 - loss: 126.7207 - mae: 8.6016 - val_accuracy: 0.0000e+00 - val_loss: 127.8563 - val_mae: 8.8454\n",
      "Epoch 6/50\n",
      "\u001b[1m904/904\u001b[0m \u001b[32m━━━━━━━━━━━━━━━━━━━━\u001b[0m\u001b[37m\u001b[0m \u001b[1m55s\u001b[0m 61ms/step - accuracy: 0.0000e+00 - loss: 112.5800 - mae: 8.0819 - val_accuracy: 0.0000e+00 - val_loss: 123.2206 - val_mae: 8.3894\n",
      "Epoch 7/50\n",
      "\u001b[1m904/904\u001b[0m \u001b[32m━━━━━━━━━━━━━━━━━━━━\u001b[0m\u001b[37m\u001b[0m \u001b[1m57s\u001b[0m 63ms/step - accuracy: 0.0000e+00 - loss: 104.5471 - mae: 7.7843 - val_accuracy: 0.0000e+00 - val_loss: 117.1291 - val_mae: 8.4254\n",
      "Epoch 8/50\n",
      "\u001b[1m904/904\u001b[0m \u001b[32m━━━━━━━━━━━━━━━━━━━━\u001b[0m\u001b[37m\u001b[0m \u001b[1m57s\u001b[0m 63ms/step - accuracy: 0.0000e+00 - loss: 89.4854 - mae: 7.2185 - val_accuracy: 0.0000e+00 - val_loss: 120.5298 - val_mae: 8.3676\n",
      "Epoch 9/50\n",
      "\u001b[1m904/904\u001b[0m \u001b[32m━━━━━━━━━━━━━━━━━━━━\u001b[0m\u001b[37m\u001b[0m \u001b[1m56s\u001b[0m 62ms/step - accuracy: 0.0000e+00 - loss: 78.4351 - mae: 6.7767 - val_accuracy: 0.0000e+00 - val_loss: 118.5543 - val_mae: 8.2827\n",
      "Epoch 10/50\n",
      "\u001b[1m904/904\u001b[0m \u001b[32m━━━━━━━━━━━━━━━━━━━━\u001b[0m\u001b[37m\u001b[0m \u001b[1m56s\u001b[0m 62ms/step - accuracy: 0.0000e+00 - loss: 64.9105 - mae: 6.1419 - val_accuracy: 0.0000e+00 - val_loss: 124.3546 - val_mae: 8.5559\n",
      "Epoch 11/50\n",
      "\u001b[1m904/904\u001b[0m \u001b[32m━━━━━━━━━━━━━━━━━━━━\u001b[0m\u001b[37m\u001b[0m \u001b[1m59s\u001b[0m 65ms/step - accuracy: 0.0000e+00 - loss: 55.0201 - mae: 5.7111 - val_accuracy: 0.0000e+00 - val_loss: 118.5497 - val_mae: 8.1901\n",
      "Epoch 12/50\n",
      "\u001b[1m904/904\u001b[0m \u001b[32m━━━━━━━━━━━━━━━━━━━━\u001b[0m\u001b[37m\u001b[0m \u001b[1m56s\u001b[0m 62ms/step - accuracy: 0.0000e+00 - loss: 45.6507 - mae: 5.2276 - val_accuracy: 0.0000e+00 - val_loss: 122.9673 - val_mae: 8.3492\n",
      "Epoch 13/50\n",
      "\u001b[1m904/904\u001b[0m \u001b[32m━━━━━━━━━━━━━━━━━━━━\u001b[0m\u001b[37m\u001b[0m \u001b[1m56s\u001b[0m 62ms/step - accuracy: 0.0000e+00 - loss: 39.3407 - mae: 4.8766 - val_accuracy: 0.0000e+00 - val_loss: 123.8201 - val_mae: 8.3661\n",
      "Epoch 14/50\n",
      "\u001b[1m904/904\u001b[0m \u001b[32m━━━━━━━━━━━━━━━━━━━━\u001b[0m\u001b[37m\u001b[0m \u001b[1m60s\u001b[0m 66ms/step - accuracy: 0.0000e+00 - loss: 33.4846 - mae: 4.5254 - val_accuracy: 0.0000e+00 - val_loss: 129.5944 - val_mae: 8.5707\n",
      "Epoch 15/50\n",
      "\u001b[1m904/904\u001b[0m \u001b[32m━━━━━━━━━━━━━━━━━━━━\u001b[0m\u001b[37m\u001b[0m \u001b[1m56s\u001b[0m 62ms/step - accuracy: 0.0000e+00 - loss: 28.9532 - mae: 4.1966 - val_accuracy: 0.0000e+00 - val_loss: 124.8891 - val_mae: 8.4765\n",
      "Epoch 16/50\n",
      "\u001b[1m904/904\u001b[0m \u001b[32m━━━━━━━━━━━━━━━━━━━━\u001b[0m\u001b[37m\u001b[0m \u001b[1m56s\u001b[0m 62ms/step - accuracy: 0.0000e+00 - loss: 25.9291 - mae: 3.9699 - val_accuracy: 0.0000e+00 - val_loss: 126.7209 - val_mae: 8.4277\n",
      "Epoch 17/50\n",
      "\u001b[1m904/904\u001b[0m \u001b[32m━━━━━━━━━━━━━━━━━━━━\u001b[0m\u001b[37m\u001b[0m \u001b[1m56s\u001b[0m 62ms/step - accuracy: 0.0000e+00 - loss: 21.9454 - mae: 3.6311 - val_accuracy: 0.0000e+00 - val_loss: 126.5257 - val_mae: 8.6733\n",
      "Epoch 18/50\n",
      "\u001b[1m904/904\u001b[0m \u001b[32m━━━━━━━━━━━━━━━━━━━━\u001b[0m\u001b[37m\u001b[0m \u001b[1m57s\u001b[0m 63ms/step - accuracy: 0.0000e+00 - loss: 20.8782 - mae: 3.5532 - val_accuracy: 0.0000e+00 - val_loss: 127.0176 - val_mae: 8.6182\n",
      "Epoch 19/50\n",
      "\u001b[1m904/904\u001b[0m \u001b[32m━━━━━━━━━━━━━━━━━━━━\u001b[0m\u001b[37m\u001b[0m \u001b[1m57s\u001b[0m 63ms/step - accuracy: 0.0000e+00 - loss: 19.0751 - mae: 3.3897 - val_accuracy: 0.0000e+00 - val_loss: 122.2054 - val_mae: 8.3527\n",
      "Epoch 20/50\n",
      "\u001b[1m904/904\u001b[0m \u001b[32m━━━━━━━━━━━━━━━━━━━━\u001b[0m\u001b[37m\u001b[0m \u001b[1m57s\u001b[0m 63ms/step - accuracy: 0.0000e+00 - loss: 18.1491 - mae: 3.3052 - val_accuracy: 0.0000e+00 - val_loss: 123.3906 - val_mae: 8.4697\n",
      "Epoch 21/50\n",
      "\u001b[1m904/904\u001b[0m \u001b[32m━━━━━━━━━━━━━━━━━━━━\u001b[0m\u001b[37m\u001b[0m \u001b[1m54s\u001b[0m 60ms/step - accuracy: 0.0000e+00 - loss: 17.3405 - mae: 3.2129 - val_accuracy: 0.0000e+00 - val_loss: 125.6116 - val_mae: 8.3947\n",
      "Epoch 22/50\n",
      "\u001b[1m904/904\u001b[0m \u001b[32m━━━━━━━━━━━━━━━━━━━━\u001b[0m\u001b[37m\u001b[0m \u001b[1m53s\u001b[0m 59ms/step - accuracy: 0.0000e+00 - loss: 16.0167 - mae: 3.1102 - val_accuracy: 0.0000e+00 - val_loss: 125.7481 - val_mae: 8.4525\n",
      "Epoch 23/50\n",
      "\u001b[1m904/904\u001b[0m \u001b[32m━━━━━━━━━━━━━━━━━━━━\u001b[0m\u001b[37m\u001b[0m \u001b[1m54s\u001b[0m 59ms/step - accuracy: 0.0000e+00 - loss: 14.9125 - mae: 2.9883 - val_accuracy: 0.0000e+00 - val_loss: 124.1391 - val_mae: 8.3887\n",
      "Epoch 24/50\n",
      "\u001b[1m904/904\u001b[0m \u001b[32m━━━━━━━━━━━━━━━━━━━━\u001b[0m\u001b[37m\u001b[0m \u001b[1m53s\u001b[0m 59ms/step - accuracy: 0.0000e+00 - loss: 14.3468 - mae: 2.9335 - val_accuracy: 0.0000e+00 - val_loss: 123.5434 - val_mae: 8.3560\n",
      "Epoch 25/50\n",
      "\u001b[1m904/904\u001b[0m \u001b[32m━━━━━━━━━━━━━━━━━━━━\u001b[0m\u001b[37m\u001b[0m \u001b[1m54s\u001b[0m 59ms/step - accuracy: 0.0000e+00 - loss: 13.7477 - mae: 2.8509 - val_accuracy: 0.0000e+00 - val_loss: 120.9661 - val_mae: 8.2681\n",
      "Epoch 26/50\n",
      "\u001b[1m904/904\u001b[0m \u001b[32m━━━━━━━━━━━━━━━━━━━━\u001b[0m\u001b[37m\u001b[0m \u001b[1m54s\u001b[0m 59ms/step - accuracy: 0.0000e+00 - loss: 12.6458 - mae: 2.7357 - val_accuracy: 0.0000e+00 - val_loss: 121.9096 - val_mae: 8.2881\n",
      "Epoch 27/50\n",
      "\u001b[1m904/904\u001b[0m \u001b[32m━━━━━━━━━━━━━━━━━━━━\u001b[0m\u001b[37m\u001b[0m \u001b[1m53s\u001b[0m 59ms/step - accuracy: 0.0000e+00 - loss: 12.1320 - mae: 2.6658 - val_accuracy: 0.0000e+00 - val_loss: 120.3596 - val_mae: 8.3346\n",
      "Epoch 28/50\n",
      "\u001b[1m904/904\u001b[0m \u001b[32m━━━━━━━━━━━━━━━━━━━━\u001b[0m\u001b[37m\u001b[0m \u001b[1m53s\u001b[0m 59ms/step - accuracy: 0.0000e+00 - loss: 11.9254 - mae: 2.6466 - val_accuracy: 0.0000e+00 - val_loss: 126.0729 - val_mae: 8.6526\n",
      "Epoch 29/50\n",
      "\u001b[1m904/904\u001b[0m \u001b[32m━━━━━━━━━━━━━━━━━━━━\u001b[0m\u001b[37m\u001b[0m \u001b[1m53s\u001b[0m 59ms/step - accuracy: 0.0000e+00 - loss: 11.5994 - mae: 2.5990 - val_accuracy: 0.0000e+00 - val_loss: 119.5987 - val_mae: 8.2716\n",
      "Epoch 30/50\n",
      "\u001b[1m904/904\u001b[0m \u001b[32m━━━━━━━━━━━━━━━━━━━━\u001b[0m\u001b[37m\u001b[0m \u001b[1m53s\u001b[0m 59ms/step - accuracy: 0.0000e+00 - loss: 10.9168 - mae: 2.5325 - val_accuracy: 0.0000e+00 - val_loss: 125.0126 - val_mae: 8.4248\n",
      "Epoch 31/50\n",
      "\u001b[1m904/904\u001b[0m \u001b[32m━━━━━━━━━━━━━━━━━━━━\u001b[0m\u001b[37m\u001b[0m \u001b[1m53s\u001b[0m 59ms/step - accuracy: 0.0000e+00 - loss: 10.4787 - mae: 2.4537 - val_accuracy: 0.0000e+00 - val_loss: 120.6284 - val_mae: 8.2215\n",
      "Epoch 32/50\n",
      "\u001b[1m904/904\u001b[0m \u001b[32m━━━━━━━━━━━━━━━━━━━━\u001b[0m\u001b[37m\u001b[0m \u001b[1m54s\u001b[0m 60ms/step - accuracy: 0.0000e+00 - loss: 9.8819 - mae: 2.3894 - val_accuracy: 0.0000e+00 - val_loss: 117.7542 - val_mae: 8.2047\n",
      "Epoch 33/50\n",
      "\u001b[1m904/904\u001b[0m \u001b[32m━━━━━━━━━━━━━━━━━━━━\u001b[0m\u001b[37m\u001b[0m \u001b[1m53s\u001b[0m 59ms/step - accuracy: 0.0000e+00 - loss: 10.1914 - mae: 2.4028 - val_accuracy: 0.0000e+00 - val_loss: 120.0859 - val_mae: 8.3182\n",
      "Epoch 34/50\n",
      "\u001b[1m904/904\u001b[0m \u001b[32m━━━━━━━━━━━━━━━━━━━━\u001b[0m\u001b[37m\u001b[0m \u001b[1m53s\u001b[0m 59ms/step - accuracy: 0.0000e+00 - loss: 9.5353 - mae: 2.3416 - val_accuracy: 0.0000e+00 - val_loss: 117.9113 - val_mae: 8.2247\n",
      "Epoch 35/50\n",
      "\u001b[1m904/904\u001b[0m \u001b[32m━━━━━━━━━━━━━━━━━━━━\u001b[0m\u001b[37m\u001b[0m \u001b[1m53s\u001b[0m 59ms/step - accuracy: 0.0000e+00 - loss: 9.0668 - mae: 2.2986 - val_accuracy: 0.0000e+00 - val_loss: 119.7342 - val_mae: 8.2488\n",
      "Epoch 36/50\n",
      "\u001b[1m904/904\u001b[0m \u001b[32m━━━━━━━━━━━━━━━━━━━━\u001b[0m\u001b[37m\u001b[0m \u001b[1m53s\u001b[0m 59ms/step - accuracy: 0.0000e+00 - loss: 9.3904 - mae: 2.3150 - val_accuracy: 0.0000e+00 - val_loss: 121.4587 - val_mae: 8.3389\n",
      "Epoch 37/50\n",
      "\u001b[1m904/904\u001b[0m \u001b[32m━━━━━━━━━━━━━━━━━━━━\u001b[0m\u001b[37m\u001b[0m \u001b[1m53s\u001b[0m 59ms/step - accuracy: 0.0000e+00 - loss: 8.1154 - mae: 2.1705 - val_accuracy: 0.0000e+00 - val_loss: 118.9084 - val_mae: 8.2430\n",
      "Epoch 38/50\n",
      "\u001b[1m904/904\u001b[0m \u001b[32m━━━━━━━━━━━━━━━━━━━━\u001b[0m\u001b[37m\u001b[0m \u001b[1m53s\u001b[0m 59ms/step - accuracy: 0.0000e+00 - loss: 8.1047 - mae: 2.1540 - val_accuracy: 0.0000e+00 - val_loss: 115.7284 - val_mae: 8.1682\n",
      "Epoch 39/50\n",
      "\u001b[1m904/904\u001b[0m \u001b[32m━━━━━━━━━━━━━━━━━━━━\u001b[0m\u001b[37m\u001b[0m \u001b[1m53s\u001b[0m 59ms/step - accuracy: 0.0000e+00 - loss: 8.0791 - mae: 2.1617 - val_accuracy: 0.0000e+00 - val_loss: 118.5636 - val_mae: 8.1866\n",
      "Epoch 40/50\n",
      "\u001b[1m904/904\u001b[0m \u001b[32m━━━━━━━━━━━━━━━━━━━━\u001b[0m\u001b[37m\u001b[0m \u001b[1m53s\u001b[0m 59ms/step - accuracy: 0.0000e+00 - loss: 8.3106 - mae: 2.1814 - val_accuracy: 0.0000e+00 - val_loss: 118.7381 - val_mae: 8.1783\n",
      "Epoch 41/50\n",
      "\u001b[1m904/904\u001b[0m \u001b[32m━━━━━━━━━━━━━━━━━━━━\u001b[0m\u001b[37m\u001b[0m \u001b[1m53s\u001b[0m 59ms/step - accuracy: 0.0000e+00 - loss: 7.6290 - mae: 2.0972 - val_accuracy: 0.0000e+00 - val_loss: 117.0001 - val_mae: 8.1935\n",
      "Epoch 42/50\n",
      "\u001b[1m904/904\u001b[0m \u001b[32m━━━━━━━━━━━━━━━━━━━━\u001b[0m\u001b[37m\u001b[0m \u001b[1m53s\u001b[0m 59ms/step - accuracy: 0.0000e+00 - loss: 7.4808 - mae: 2.0687 - val_accuracy: 0.0000e+00 - val_loss: 117.2045 - val_mae: 8.2384\n",
      "Epoch 43/50\n",
      "\u001b[1m904/904\u001b[0m \u001b[32m━━━━━━━━━━━━━━━━━━━━\u001b[0m\u001b[37m\u001b[0m \u001b[1m53s\u001b[0m 59ms/step - accuracy: 0.0000e+00 - loss: 7.4024 - mae: 2.0414 - val_accuracy: 0.0000e+00 - val_loss: 121.0410 - val_mae: 8.3113\n",
      "Epoch 44/50\n",
      "\u001b[1m904/904\u001b[0m \u001b[32m━━━━━━━━━━━━━━━━━━━━\u001b[0m\u001b[37m\u001b[0m \u001b[1m53s\u001b[0m 59ms/step - accuracy: 0.0000e+00 - loss: 7.3122 - mae: 2.0435 - val_accuracy: 0.0000e+00 - val_loss: 116.1473 - val_mae: 8.1823\n",
      "Epoch 45/50\n",
      "\u001b[1m904/904\u001b[0m \u001b[32m━━━━━━━━━━━━━━━━━━━━\u001b[0m\u001b[37m\u001b[0m \u001b[1m53s\u001b[0m 59ms/step - accuracy: 0.0000e+00 - loss: 6.7153 - mae: 1.9503 - val_accuracy: 0.0000e+00 - val_loss: 116.9915 - val_mae: 8.2831\n",
      "Epoch 46/50\n",
      "\u001b[1m904/904\u001b[0m \u001b[32m━━━━━━━━━━━━━━━━━━━━\u001b[0m\u001b[37m\u001b[0m \u001b[1m54s\u001b[0m 59ms/step - accuracy: 0.0000e+00 - loss: 7.0948 - mae: 2.0132 - val_accuracy: 0.0000e+00 - val_loss: 114.6949 - val_mae: 8.1112\n",
      "Epoch 47/50\n",
      "\u001b[1m904/904\u001b[0m \u001b[32m━━━━━━━━━━━━━━━━━━━━\u001b[0m\u001b[37m\u001b[0m \u001b[1m53s\u001b[0m 59ms/step - accuracy: 0.0000e+00 - loss: 6.4991 - mae: 1.9140 - val_accuracy: 0.0000e+00 - val_loss: 116.5976 - val_mae: 8.1944\n",
      "Epoch 48/50\n",
      "\u001b[1m904/904\u001b[0m \u001b[32m━━━━━━━━━━━━━━━━━━━━\u001b[0m\u001b[37m\u001b[0m \u001b[1m53s\u001b[0m 59ms/step - accuracy: 0.0000e+00 - loss: 6.3288 - mae: 1.9070 - val_accuracy: 0.0000e+00 - val_loss: 116.6035 - val_mae: 8.2161\n",
      "Epoch 49/50\n",
      "\u001b[1m904/904\u001b[0m \u001b[32m━━━━━━━━━━━━━━━━━━━━\u001b[0m\u001b[37m\u001b[0m \u001b[1m53s\u001b[0m 59ms/step - accuracy: 0.0000e+00 - loss: 6.7290 - mae: 1.9541 - val_accuracy: 0.0000e+00 - val_loss: 117.4279 - val_mae: 8.1726\n",
      "Epoch 50/50\n",
      "\u001b[1m904/904\u001b[0m \u001b[32m━━━━━━━━━━━━━━━━━━━━\u001b[0m\u001b[37m\u001b[0m \u001b[1m53s\u001b[0m 59ms/step - accuracy: 0.0000e+00 - loss: 6.8849 - mae: 1.9724 - val_accuracy: 0.0000e+00 - val_loss: 116.8973 - val_mae: 8.1982\n",
      "\u001b[1m251/251\u001b[0m \u001b[32m━━━━━━━━━━━━━━━━━━━━\u001b[0m\u001b[37m\u001b[0m \u001b[1m5s\u001b[0m 19ms/step - accuracy: 0.0000e+00 - loss: 120.7919 - mae: 8.2395\n"
     ]
    },
    {
     "ename": "ValueError",
     "evalue": "too many values to unpack (expected 2)",
     "output_type": "error",
     "traceback": [
      "\u001b[31m---------------------------------------------------------------------------\u001b[39m",
      "\u001b[31mValueError\u001b[39m                                Traceback (most recent call last)",
      "\u001b[36mCell\u001b[39m\u001b[36m \u001b[39m\u001b[32mIn[10]\u001b[39m\u001b[32m, line 9\u001b[39m\n\u001b[32m      1\u001b[39m history = model.fit(\n\u001b[32m      2\u001b[39m     X_train, y_train,\n\u001b[32m      3\u001b[39m     validation_split=\u001b[32m0.1\u001b[39m,  \u001b[38;5;66;03m# 10% of training as validation\u001b[39;00m\n\u001b[32m   (...)\u001b[39m\u001b[32m      6\u001b[39m     verbose=\u001b[32m1\u001b[39m\n\u001b[32m      7\u001b[39m )\n\u001b[32m----> \u001b[39m\u001b[32m9\u001b[39m test_loss, test_acc = model.evaluate(X_test, y_test, verbose=\u001b[32m1\u001b[39m)\n\u001b[32m     10\u001b[39m \u001b[38;5;28mprint\u001b[39m(\u001b[33mf\u001b[39m\u001b[33m\"\u001b[39m\u001b[33mTest Loss: \u001b[39m\u001b[38;5;132;01m{\u001b[39;00mtest_loss\u001b[38;5;132;01m:\u001b[39;00m\u001b[33m.4f\u001b[39m\u001b[38;5;132;01m}\u001b[39;00m\u001b[33m, Test MAE: \u001b[39m\u001b[38;5;132;01m{\u001b[39;00mtest_acc\u001b[38;5;132;01m:\u001b[39;00m\u001b[33m.4f\u001b[39m\u001b[38;5;132;01m}\u001b[39;00m\u001b[33m\"\u001b[39m)\n\u001b[32m     12\u001b[39m predictions = model.predict(X_test[:\u001b[32m5\u001b[39m])\n",
      "\u001b[31mValueError\u001b[39m: too many values to unpack (expected 2)"
     ]
    }
   ],
   "source": [
    "history = model.fit(\n",
    "    X_train, y_train,\n",
    "    validation_split=0.1,  # 10% of training as validation\n",
    "    epochs=50,\n",
    "    batch_size=32,\n",
    "    verbose=1\n",
    ")\n",
    "\n",
    "test_loss, test_acc = model.evaluate(X_test, y_test, verbose=1)\n",
    "print(f\"Test Loss: {test_loss:.4f}, Test MAE: {test_acc:.4f}\")\n",
    "\n",
    "predictions = model.predict(X_test[:5])\n",
    "pred_classes = np.argmax(predictions, axis=1)"
   ]
  },
  {
   "cell_type": "code",
   "execution_count": 11,
   "id": "6bce1d76-1e6b-449c-a810-51354f1126f9",
   "metadata": {},
   "outputs": [
    {
     "ename": "NameError",
     "evalue": "name 'mae_1' is not defined",
     "output_type": "error",
     "traceback": [
      "\u001b[31m---------------------------------------------------------------------------\u001b[39m",
      "\u001b[31mNameError\u001b[39m                                 Traceback (most recent call last)",
      "\u001b[36mCell\u001b[39m\u001b[36m \u001b[39m\u001b[32mIn[11]\u001b[39m\u001b[32m, line 9\u001b[39m\n\u001b[32m      3\u001b[39m epochs = \u001b[38;5;28mlist\u001b[39m(\u001b[38;5;28mrange\u001b[39m(\u001b[32m1\u001b[39m, \u001b[32m11\u001b[39m))\n\u001b[32m      4\u001b[39m \u001b[38;5;66;03m# mae_1 = [14.5979, 10.8871, 9.9276, 9.2785, 8.7543, 8.2077, 7.8515, 7.4506, 6.8478, 6.3964]\u001b[39;00m\n\u001b[32m      5\u001b[39m \u001b[38;5;66;03m# val_mae_1 = [11.6807, 10.2429, 12.0398, 10.0816, 8.7568, 8.7633, 8.8123, 8.2663, 8.4064, 8.1227]\u001b[39;00m\n\u001b[32m      6\u001b[39m \u001b[38;5;66;03m# loss_1 = [360.3050, 194.2335, 166.2236, 146.0934, 132.2029, 116.3978, 106.9315, 96.0839, 80.4740, 70.1958]\u001b[39;00m\n\u001b[32m      7\u001b[39m \u001b[38;5;66;03m# val_loss_1 = [208.5630, 168.5152, 217.1691, 184.8010, 132.2354, 126.3211, 124.4792, 121.1767, 125.7445, 118.2643]\u001b[39;00m\n\u001b[32m----> \u001b[39m\u001b[32m9\u001b[39m plt.plot(\u001b[43mmae_1\u001b[49m, label=\u001b[33m'\u001b[39m\u001b[33mTrain MAE\u001b[39m\u001b[33m'\u001b[39m)\n\u001b[32m     10\u001b[39m plt.plot(val_mae_1, label=\u001b[33m'\u001b[39m\u001b[33mValidation MAE\u001b[39m\u001b[33m'\u001b[39m)\n\u001b[32m     11\u001b[39m plt.title(\u001b[33m'\u001b[39m\u001b[33mModel Accuracy, Version 2 Trial 1\u001b[39m\u001b[33m'\u001b[39m)\n",
      "\u001b[31mNameError\u001b[39m: name 'mae_1' is not defined"
     ]
    }
   ],
   "source": [
    "# Plotting results\n",
    "# Trial 1 (Greyscale)\n",
    "epochs = list(range(1, 11))\n",
    "# mae_1 = [14.5979, 10.8871, 9.9276, 9.2785, 8.7543, 8.2077, 7.8515, 7.4506, 6.8478, 6.3964]\n",
    "# val_mae_1 = [11.6807, 10.2429, 12.0398, 10.0816, 8.7568, 8.7633, 8.8123, 8.2663, 8.4064, 8.1227]\n",
    "# loss_1 = [360.3050, 194.2335, 166.2236, 146.0934, 132.2029, 116.3978, 106.9315, 96.0839, 80.4740, 70.1958]\n",
    "# val_loss_1 = [208.5630, 168.5152, 217.1691, 184.8010, 132.2354, 126.3211, 124.4792, 121.1767, 125.7445, 118.2643]\n",
    "\n",
    "plt.plot(mae_1, label='Train MAE')\n",
    "plt.plot(val_mae_1, label='Validation MAE')\n",
    "plt.title('Model Accuracy, Version 2 Trial 1')\n",
    "plt.ylabel('MAE')\n",
    "plt.xlabel('Epochs')\n",
    "plt.legend()\n",
    "plt.show()\n"
   ]
  },
  {
   "cell_type": "code",
   "execution_count": null,
   "id": "61ec1c48",
   "metadata": {},
   "outputs": [
    {
     "data": {
      "image/png": "[encoded data removed]",
      "text/plain": [
       "<Figure size 640x480 with 1 Axes>"
      ]
     },
     "metadata": {},
     "output_type": "display_data"
    }
   ],
   "source": [
    "# Trial 2 (RGB)\n",
    "epochs = list(range(1, 11))\n",
    "mae_2 = [7.020732879638672, 6.4622111320495605, 5.949060440063477, 5.503737926483154, 5.021727085113525, 4.636434555053711, 4.378624439239502, 4.054207801818848, 3.7909607887268066, 3.610996723175049]\n",
    "val_mae_2 = [8.359553337097168, 8.544313430786133, 8.513622283935547, 8.267542839050293, 8.393195152282715, 8.592748641967773, 8.358521461486816, 8.47401237487793, 8.5360107421875, 8.479294776916504]\n",
    "loss_2 = [84.27149963378906, 71.6761474609375, 59.801029205322266, 50.81813430786133, 41.832847595214844, 35.92060089111328, 31.544158935546875, 27.082508087158203, 23.75102996826172, 21.59292984008789]\n",
    "val_loss_2 = [118.93006896972656, 122.75640869140625, 124.62127685546875, 118.75439453125, 125.09637451171875, 127.47290802001953, 126.1072998046875, 128.4408416748047, 130.30816650390625, 126.53807067871094]\n",
    "\n",
    "plt.plot(mae_2, label='Train MAE')\n",
    "plt.plot(val_mae_2, label='Validation MAE')\n",
    "plt.title('Model Accuracy, Version 2 Trial 2')\n",
    "plt.ylabel('MAE')\n",
    "plt.xlabel('Epochs')\n",
    "plt.legend()\n",
    "plt.show()"
   ]
  }
 ],
 "metadata": {
  "kernelspec": {
   "display_name": "CSE404Project",
   "language": "python",
   "name": "python3"
  },
  "language_info": {
   "codemirror_mode": {
    "name": "ipython",
    "version": 3
   },
   "file_extension": ".py",
   "mimetype": "text/x-python",
   "name": "python",
   "nbconvert_exporter": "python",
   "pygments_lexer": "ipython3",
   "version": "3.11.11"
  }
 },
 "nbformat": 4,
 "nbformat_minor": 5
}
