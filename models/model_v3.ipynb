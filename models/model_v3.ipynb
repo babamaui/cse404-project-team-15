{
 "cells": [
  {
   "cell_type": "markdown",
   "id": "5e040ec1-8705-4f3e-a020-dc08409d03b8",
   "metadata": {},
   "source": [
    "## Same intial loading and cleaning steps ##"
   ]
  },
  {
   "cell_type": "code",
   "execution_count": 41,
   "id": "4147e45f",
   "metadata": {},
   "outputs": [],
   "source": [
    "# Image Preparation Imports\n",
    "import cv2\n",
    "import pandas as pd \n",
    "import numpy as np\n",
    "import datetime\n",
    "import matplotlib.pyplot as plt\n",
    "from glob import glob\n",
    "from scipy.io import loadmat\n",
    "from sklearn.model_selection import train_test_split\n",
    "\n",
    "import tensorflow as tf\n",
    "from tensorflow.keras.models import Sequential\n",
    "from tensorflow.keras.layers import Conv2D, MaxPooling2D, Flatten, Dense, Dropout\n",
    "from tensorflow.keras.optimizers import Adam\n",
    "\n",
    "file_name = '../data/wiki.mat'\n",
    "\n",
    "def matlab_datenum_to_date(matlab_dn):\n",
    "    return datetime.date.fromordinal(int(matlab_dn) - 366)\n",
    "\n",
    "def compute_wiki_age(photo_year, birth_datenum):\n",
    "    photo_date = datetime.date(photo_year, 7, 1)\n",
    "    birth_date = matlab_datenum_to_date(birth_datenum)\n",
    "    delta = photo_date - birth_date\n",
    "    return delta.days / 365.2425\n",
    "\n",
    "\n",
    "def process_matfile(file_name):\n",
    "    # Load the data\n",
    "    data = loadmat(file_name)['wiki'][0, 0]\n",
    "    data_dict = {key: data[key] for key in data.dtype.names}\n",
    "\n",
    "    # Convert data into filename-based dictionary\n",
    "    filename_dict = {}\n",
    "\n",
    "    for i in range(len(data_dict['full_path'][0])):\n",
    "        # Remove invalid faces\n",
    "        if np.isinf(data_dict['face_score'][0][i]) or not np.isnan(data_dict['second_face_score'][0][i]):\n",
    "            continue\n",
    "\n",
    "        filename = data_dict['full_path'][0][i][0]\n",
    "        filename_dict[filename] = compute_wiki_age(data_dict['photo_taken'][0][i], data_dict['dob'][0][i])\n",
    "\n",
    "    return filename_dict\n",
    "\n",
    "# Load filenames anda ssociated data\n",
    "data = process_matfile(file_name)"
   ]
  },
  {
   "cell_type": "code",
   "execution_count": 42,
   "id": "de848d31-42b3-4271-b295-9986f432db6e",
   "metadata": {},
   "outputs": [
    {
     "name": "stdout",
     "output_type": "stream",
     "text": [
      "40216\n",
      "38.60996556567274\n",
      "40147\n",
      "1.3525260614523227 99.87337180092678\n"
     ]
    }
   ],
   "source": [
    "#some data cleaning to get rid of excessively large or negative values in the predicted age category\n",
    "print(len(data))\n",
    "mean_val = sum(data.values()) / len(data)\n",
    "print(mean_val)\n",
    "for key in list(data.keys()):\n",
    "    if data[key] > 100 or data[key] < 1:\n",
    "        del data[key]\n",
    "print(len(data))\n",
    "print(min(data.values()), max(data.values()))"
   ]
  },
  {
   "cell_type": "code",
   "execution_count": 43,
   "id": "52c154cb-9def-4a6c-a7c5-d748c77d8d8d",
   "metadata": {},
   "outputs": [
    {
     "name": "stdout",
     "output_type": "stream",
     "text": [
      "Number of images loaded: 40147\n"
     ]
    }
   ],
   "source": [
    "# Load in images\n",
    "images = []\n",
    "for i in data.keys():  \n",
    "    img = cv2.imread('../data/wiki_crop/'+i)\n",
    "    images.append(img)\n",
    "\n",
    "print(f\"Number of images loaded: {len(images)}\")"
   ]
  },
  {
   "cell_type": "code",
   "execution_count": 44,
   "id": "0c1beabd-ca4a-4268-ab39-313b827a6e28",
   "metadata": {},
   "outputs": [],
   "source": [
    "#resize all images (can change width and height to what we find to be best)\n",
    "new_images = []\n",
    "width = 128\n",
    "height = 128\n",
    "for image in images:\n",
    "    new_im = cv2.resize(image, (width, height), interpolation=cv2.INTER_LINEAR)\n",
    "    new_im = cv2.cvtColor((cv2.resize(image, (width,height), interpolation=cv2.INTER_LINEAR)), cv2.COLOR_BGR2RGB)\n",
    "    new_images.append(new_im)"
   ]
  },
  {
   "cell_type": "markdown",
   "id": "3eb9d6ee-68d7-4cd8-89d6-7181abe38f76",
   "metadata": {},
   "source": [
    "## new way to classify ages into bins of 5 ##"
   ]
  },
  {
   "cell_type": "code",
   "execution_count": 45,
   "id": "d9483bb2-6f04-4b98-b0bb-63df96f5b597",
   "metadata": {},
   "outputs": [],
   "source": [
    "# edges = [0, 5, 10, 15, 20, 25, 30, 35, 40, 45, 50, 55, 60, 65, 70, 75, 80, 85, 90, 95, 100]\n",
    "# labels = ['0-5 years', '5-10 years', '10-15 years', '15-20 years',\n",
    "#               '20-25 years', '25-30 years', '30-35 years', '35-40 years',\n",
    "#              '40-45 years', '45-50 years', '50-55 years', '55-60 years',\n",
    "#               '60-65 years', '65-70 years', '70-75 years', '75-80 years', \n",
    "#              '80-85 years', '85-90 years', '90-95 years', '95-100 years']\n",
    "\n",
    "# def classify_age(age, edges, labels):\n",
    "#     for i in range(len(edges) - 1):\n",
    "#         if edges[i] <= age < edges[i + 1]:\n",
    "#             return labels[i]\n",
    "#     return None  \n",
    "\n",
    "# classification = [classify_age(data[key], edges, labels) for key in data.keys()]\n",
    "\n",
    "classification = [data[key] for key in data.keys()]"
   ]
  },
  {
   "cell_type": "code",
   "execution_count": 46,
   "id": "0964e931-582f-4e40-8170-c7a97fba9394",
   "metadata": {},
   "outputs": [],
   "source": [
    "# split in to train and test sets\n",
    "x_train, x_test, y_train, y_test = train_test_split(new_images, classification, test_size = 0.2, random_state = 42)"
   ]
  },
  {
   "cell_type": "code",
   "execution_count": 50,
   "id": "60bca587-84dd-4c09-9ae0-1c893c8f1fae",
   "metadata": {},
   "outputs": [
    {
     "name": "stdout",
     "output_type": "stream",
     "text": [
      "X_train shape: (32117, 128, 128, 3)\n",
      "y_train shape: (32117,)\n"
     ]
    }
   ],
   "source": [
    "# int_labels = sorted(set(y_train))\n",
    "# label_to_int_mapping = {label: idx for idx, label in enumerate(int_labels)}\n",
    "\n",
    "# def label_to_int(label):\n",
    "#     return label_to_int_mapping[label]\n",
    "\n",
    "# # Convert datasets\n",
    "# X_train = np.array(x_train, dtype='float32')\n",
    "# X_test = np.array(x_test, dtype='float32')\n",
    "\n",
    "# # Map labels to integers\n",
    "# y_train_int = np.array([label_to_int(lbl) for lbl in y_train], dtype='int32')\n",
    "# y_test_int = np.array([label_to_int(lbl) for lbl in y_test], dtype='int32')\n",
    "\n",
    "# y_train_int = np.array([label_to_int(lbl) for lbl in y_train], dtype='int32')\n",
    "# y_test_int = np.array([label_to_int(lbl) for lbl in y_test], dtype='int32')\n",
    "\n",
    "# Normalize pixel values to range [0, 1]\n",
    "X_train = np.array(x_train, dtype='float32') / 255.0\n",
    "X_test = np.array(x_test, dtype='float32') / 255.0\n",
    "\n",
    "y_train = np.array(y_train, dtype='float32')\n",
    "y_test = np.array(y_test, dtype='float32')\n",
    "\n",
    "# Print shapes\n",
    "print(\"X_train shape:\", X_train.shape)\n",
    "print(\"y_train shape:\", y_train.shape)"
   ]
  },
  {
   "cell_type": "code",
   "execution_count": 62,
   "id": "09711e33-2a6d-4552-8391-7ac96d303d2d",
   "metadata": {},
   "outputs": [],
   "source": [
    "model = Sequential([\n",
    "    # Conv2D(32, (3,3), activation='relu', input_shape=(height, width, 3)),\n",
    "    # MaxPooling2D((2,2)),\n",
    "\n",
    "    # Conv2D(64, (3,3), activation='relu'),\n",
    "    # MaxPooling2D((2,2)),\n",
    "\n",
    "    # Flatten(),\n",
    "    # Dense(128, activation='relu'),\n",
    "    # Dense(20, activation='softmax')  #the 20 different categories for age\n",
    "\n",
    "    Conv2D(32, kernel_size=(3, 3), activation='relu'),\n",
    "    MaxPooling2D(pool_size=(2, 2)),\n",
    "\n",
    "    Conv2D(64, kernel_size=(3, 3), activation='relu'),\n",
    "    MaxPooling2D(pool_size=(2, 2)),\n",
    "\n",
    "    Conv2D(128, kernel_size=(3, 3), activation='relu'),\n",
    "    MaxPooling2D(pool_size=(2, 2)),   \n",
    "\n",
    "    Conv2D(256, kernel_size=(3, 3), activation='relu'),\n",
    "    MaxPooling2D(pool_size=(2, 2)),   \n",
    "\n",
    "    Flatten(),\n",
    "\n",
    "    Dense(256, activation='relu'),\n",
    "\n",
    "    Dense(1)\n",
    "])\n",
    "\n",
    "model.compile(\n",
    "    optimizer=Adam(learning_rate=0.001),\n",
    "    loss='mean_squared_error', \n",
    "    metrics=['mae']  \n",
    ")"
   ]
  },
  {
   "cell_type": "code",
   "execution_count": null,
   "id": "24bcd747-3ff4-42d0-a20b-bc46fe1cdc4d",
   "metadata": {},
   "outputs": [
    {
     "name": "stdout",
     "output_type": "stream",
     "text": [
      "Epoch 1/10\n",
      "\u001b[1m904/904\u001b[0m \u001b[32m━━━━━━━━━━━━━━━━━━━━\u001b[0m\u001b[37m\u001b[0m \u001b[1m63s\u001b[0m 68ms/step - loss: 360.3050 - mae: 14.5979 - val_loss: 208.5630 - val_mae: 11.6807\n",
      "Epoch 2/10\n",
      "\u001b[1m904/904\u001b[0m \u001b[32m━━━━━━━━━━━━━━━━━━━━\u001b[0m\u001b[37m\u001b[0m \u001b[1m59s\u001b[0m 65ms/step - loss: 194.2335 - mae: 10.8871 - val_loss: 168.5152 - val_mae: 10.2429\n",
      "Epoch 3/10\n",
      "\u001b[1m904/904\u001b[0m \u001b[32m━━━━━━━━━━━━━━━━━━━━\u001b[0m\u001b[37m\u001b[0m \u001b[1m58s\u001b[0m 64ms/step - loss: 166.2236 - mae: 9.9276 - val_loss: 217.1691 - val_mae: 12.0398\n",
      "Epoch 4/10\n",
      "\u001b[1m904/904\u001b[0m \u001b[32m━━━━━━━━━━━━━━━━━━━━\u001b[0m\u001b[37m\u001b[0m \u001b[1m57s\u001b[0m 63ms/step - loss: 146.0934 - mae: 9.2785 - val_loss: 184.8010 - val_mae: 10.0816\n",
      "Epoch 5/10\n",
      "\u001b[1m904/904\u001b[0m \u001b[32m━━━━━━━━━━━━━━━━━━━━\u001b[0m\u001b[37m\u001b[0m \u001b[1m57s\u001b[0m 63ms/step - loss: 132.2029 - mae: 8.7543 - val_loss: 132.2354 - val_mae: 8.7568\n",
      "Epoch 6/10\n",
      "\u001b[1m904/904\u001b[0m \u001b[32m━━━━━━━━━━━━━━━━━━━━\u001b[0m\u001b[37m\u001b[0m \u001b[1m57s\u001b[0m 63ms/step - loss: 116.3978 - mae: 8.2077 - val_loss: 126.3211 - val_mae: 8.7633\n",
      "Epoch 7/10\n",
      "\u001b[1m904/904\u001b[0m \u001b[32m━━━━━━━━━━━━━━━━━━━━\u001b[0m\u001b[37m\u001b[0m \u001b[1m58s\u001b[0m 64ms/step - loss: 106.9315 - mae: 7.8515 - val_loss: 124.4782 - val_mae: 8.8123\n",
      "Epoch 8/10\n",
      "\u001b[1m904/904\u001b[0m \u001b[32m━━━━━━━━━━━━━━━━━━━━\u001b[0m\u001b[37m\u001b[0m \u001b[1m57s\u001b[0m 63ms/step - loss: 96.0849 - mae: 7.4506 - val_loss: 121.1767 - val_mae: 8.2663\n",
      "Epoch 9/10\n",
      "\u001b[1m904/904\u001b[0m \u001b[32m━━━━━━━━━━━━━━━━━━━━\u001b[0m\u001b[37m\u001b[0m \u001b[1m56s\u001b[0m 61ms/step - loss: 80.4740 - mae: 6.8478 - val_loss: 125.7445 - val_mae: 8.4064\n",
      "Epoch 10/10\n",
      "\u001b[1m904/904\u001b[0m \u001b[32m━━━━━━━━━━━━━━━━━━━━\u001b[0m\u001b[37m\u001b[0m \u001b[1m54s\u001b[0m 60ms/step - loss: 70.1958 - mae: 6.3964 - val_loss: 118.2643 - val_mae: 8.1227\n",
      "\u001b[1m251/251\u001b[0m \u001b[32m━━━━━━━━━━━━━━━━━━━━\u001b[0m\u001b[37m\u001b[0m \u001b[1m6s\u001b[0m 22ms/step - loss: 119.9316 - mae: 8.1486\n",
      "Test Loss: 117.6825, Test Accuracy: 8.0783\n",
      "\u001b[1m1/1\u001b[0m \u001b[32m━━━━━━━━━━━━━━━━━━━━\u001b[0m\u001b[37m\u001b[0m \u001b[1m0s\u001b[0m 91ms/step\n"
     ]
    }
   ],
   "source": [
    "history = model.fit(\n",
    "    X_train, y_train,\n",
    "    validation_split=0.1,  # 10% of training as validation\n",
    "    epochs=10,\n",
    "    batch_size=32,\n",
    "    verbose=1\n",
    ")\n",
    "\n",
    "test_loss, test_acc = model.evaluate(X_test, y_test, verbose=1)\n",
    "print(f\"Test Loss: {test_loss:.4f}, Test MAE: {test_acc:.4f}\")\n",
    "\n",
    "predictions = model.predict(X_test[:5])\n",
    "pred_classes = np.argmax(predictions, axis=1)"
   ]
  },
  {
   "cell_type": "code",
   "execution_count": null,
   "id": "14bd8eaa-2c60-4279-b037-e6759911f9c7",
   "metadata": {},
   "outputs": [
    {
     "name": "stdout",
     "output_type": "stream",
     "text": [
      "\n",
      "Sample Predictions:\n",
      "Predicted: 0, Actual: 37.76121520996094\n",
      "Predicted: 0, Actual: 57.049766540527344\n",
      "Predicted: 0, Actual: 17.826513290405273\n",
      "Predicted: 0, Actual: 20.77250099182129\n",
      "Predicted: 0, Actual: 43.007041931152344\n"
     ]
    }
   ],
   "source": [
    "print(\"\\nSample Predictions:\")\n",
    "for i in range(5):\n",
    "    predicted_label = pred_classes[i]\n",
    "    actual_label = y_test[i]\n",
    "    print(f\"Predicted: {predicted_label}, Actual: {actual_label}\")"
   ]
  },
  {
   "cell_type": "code",
   "execution_count": 68,
   "id": "6bce1d76-1e6b-449c-a810-51354f1126f9",
   "metadata": {},
   "outputs": [
    {
     "ename": "KeyError",
     "evalue": "'val_accuracy'",
     "output_type": "error",
     "traceback": [
      "\u001b[31m---------------------------------------------------------------------------\u001b[39m",
      "\u001b[31mKeyError\u001b[39m                                  Traceback (most recent call last)",
      "\u001b[36mCell\u001b[39m\u001b[36m \u001b[39m\u001b[32mIn[68]\u001b[39m\u001b[32m, line 4\u001b[39m\n\u001b[32m      2\u001b[39m plt.figure(figsize=(\u001b[32m12\u001b[39m, \u001b[32m4\u001b[39m))\n\u001b[32m      3\u001b[39m plt.plot(history.history[\u001b[33m'\u001b[39m\u001b[33mmae\u001b[39m\u001b[33m'\u001b[39m], label=\u001b[33m'\u001b[39m\u001b[33mTrain MAE\u001b[39m\u001b[33m'\u001b[39m)\n\u001b[32m----> \u001b[39m\u001b[32m4\u001b[39m plt.plot(\u001b[43mhistory\u001b[49m\u001b[43m.\u001b[49m\u001b[43mhistory\u001b[49m\u001b[43m[\u001b[49m\u001b[33;43m'\u001b[39;49m\u001b[33;43mval_accuracy\u001b[39;49m\u001b[33;43m'\u001b[39;49m\u001b[43m]\u001b[49m, label=\u001b[33m'\u001b[39m\u001b[33mValidation Accuracy\u001b[39m\u001b[33m'\u001b[39m)\n\u001b[32m      5\u001b[39m plt.title(\u001b[33m'\u001b[39m\u001b[33mModel Accuracy\u001b[39m\u001b[33m'\u001b[39m)\n",
      "\u001b[31mKeyError\u001b[39m: 'val_accuracy'"
     ]
    },
    {
     "data": {
      "image/png": "[encoded data removed]",
      "text/plain": [
       "<Figure size 1200x400 with 1 Axes>"
      ]
     },
     "metadata": {},
     "output_type": "display_data"
    }
   ],
   "source": [
    "# Plotting results\n",
    "plt.figure(figsize=(12, 4))\n",
    "plt.plot(history.history['mae'], label='Train MAE')\n",
    "plt.plot(history.history['val_accuracy'], label='Validation Accuracy')\n",
    "plt.title('Model Accuracy')\n"
   ]
  }
 ],
 "metadata": {
  "kernelspec": {
   "display_name": "CSE404Project",
   "language": "python",
   "name": "python3"
  },
  "language_info": {
   "codemirror_mode": {
    "name": "ipython",
    "version": 3
   },
   "file_extension": ".py",
   "mimetype": "text/x-python",
   "name": "python",
   "nbconvert_exporter": "python",
   "pygments_lexer": "ipython3",
   "version": "3.11.11"
  }
 },
 "nbformat": 4,
 "nbformat_minor": 5
}
