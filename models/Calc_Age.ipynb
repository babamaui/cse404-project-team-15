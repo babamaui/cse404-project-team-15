{
 "cells": [
  {
   "cell_type": "code",
   "execution_count": 2,
   "id": "3e2c904a",
   "metadata": {},
   "outputs": [
    {
     "name": "stdout",
     "output_type": "stream",
     "text": [
      "                        image_name  approx_age\n",
      "0  17/10000217_1981-05-05_2009.jpg   28.156636\n",
      "1    12/100012_1948-07-03_2008.jpg   59.995756\n",
      "2  16/10002116_1971-05-31_2012.jpg   41.087770\n",
      "3  02/10002702_1960-11-09_2012.jpg   51.642402\n",
      "4  41/10003541_1937-09-27_1971.jpg   33.758393\n",
      "5  99/10004299_1908-08-19_1950.jpg   41.865336\n",
      "6   56/1000456_1933-06-12_1969.jpg   36.052759\n",
      "7  82/10004882_1987-05-16_2010.jpg   23.127100\n",
      "8  47/10005947_1981-04-07_2006.jpg   25.232551\n",
      "9   84/1000684_1972-04-05_2004.jpg   32.238855\n",
      "Total valid faces: 40216\n"
     ]
    }
   ],
   "source": [
    "import datetime\n",
    "import numpy as np\n",
    "import pandas as pd\n",
    "import scipy.io\n",
    "\n",
    "mat_path = \"wiki.mat\"\n",
    "mat_data = scipy.io.loadmat(mat_path)\n",
    "wiki_struct = mat_data['wiki'][0, 0]\n",
    "\n",
    "dob = wiki_struct['dob'][0]\n",
    "photo_taken = wiki_struct['photo_taken'][0]\n",
    "full_path = wiki_struct['full_path'][0]\n",
    "face_score = wiki_struct['face_score'][0]\n",
    "second_score = wiki_struct['second_face_score'][0]\n",
    "\n",
    "def matlab_datenum_to_date(matlab_dn):\n",
    "    return datetime.date.fromordinal(int(matlab_dn) - 366)\n",
    "\n",
    "def compute_wiki_age(photo_year, birth_datenum):\n",
    "    photo_date = datetime.date(photo_year, 7, 1)\n",
    "    birth_date = matlab_datenum_to_date(birth_datenum)\n",
    "    delta = photo_date - birth_date\n",
    "    return delta.days / 365.2425\n",
    "\n",
    "records = []\n",
    "for i in range(len(dob)):\n",
    "    if np.isinf(face_score[i]) or not np.isnan(second_score[i]):\n",
    "        continue\n",
    "    rel_path = full_path[i][0]\n",
    "    age_val = compute_wiki_age(photo_taken[i], dob[i])\n",
    "    records.append({\"image_name\": rel_path, \"approx_age\": age_val})\n",
    "\n",
    "df = pd.DataFrame(records, columns=[\"image_name\", \"approx_age\"])\n",
    "print(df.head(10))\n",
    "print(\"Total valid faces:\", len(df))\n"
   ]
  },
  {
   "cell_type": "code",
   "execution_count": null,
   "id": "67d6494b",
   "metadata": {},
   "outputs": [],
   "source": []
  }
 ],
 "metadata": {
  "kernelspec": {
   "display_name": "Python 3",
   "language": "python",
   "name": "python3"
  },
  "language_info": {
   "codemirror_mode": {
    "name": "ipython",
    "version": 3
   },
   "file_extension": ".py",
   "mimetype": "text/x-python",
   "name": "python",
   "nbconvert_exporter": "python",
   "pygments_lexer": "ipython3",
   "version": "3.8.8"
  }
 },
 "nbformat": 4,
 "nbformat_minor": 5
}
