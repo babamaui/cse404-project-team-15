{
 "cells": [
  {
   "cell_type": "code",
   "execution_count": null,
   "id": "4147e45f",
   "metadata": {},
   "outputs": [],
   "source": [
    "print(\"Hello\")"
   ]
  }
 ],
 "metadata": {
  "language_info": {
   "name": "python"
  }
 },
 "nbformat": 4,
 "nbformat_minor": 5
}
