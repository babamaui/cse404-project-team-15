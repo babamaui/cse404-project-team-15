{
 "cells": [
  {
   "cell_type": "markdown",
   "id": "5e040ec1-8705-4f3e-a020-dc08409d03b8",
   "metadata": {},
   "source": [
    "## Final model (V3, but cleaned up and commented)"
   ]
  },
  {
   "cell_type": "markdown",
   "id": "aaad908c",
   "metadata": {},
   "source": [
    "#### Data Preparation"
   ]
  },
  {
   "cell_type": "code",
   "execution_count": 19,
   "id": "4147e45f",
   "metadata": {},
   "outputs": [],
   "source": [
    "# Image Preparation Imports\n",
    "import cv2\n",
    "import pandas as pd \n",
    "import numpy as np\n",
    "import datetime\n",
    "import matplotlib.pyplot as plt\n",
    "from glob import glob\n",
    "from scipy.io import loadmat\n",
    "from sklearn.model_selection import train_test_split\n",
    "\n",
    "import tensorflow as tf\n",
    "from tensorflow.keras.models import Sequential\n",
    "from tensorflow.keras.layers import Conv2D, MaxPooling2D, Flatten, Dense, Dropout, GlobalMaxPooling2D\n",
    "from tensorflow.keras.optimizers import Adam\n",
    "\n",
    "file_name = '../data/wiki.mat'\n",
    "\n",
    "def matlab_datenum_to_date(matlab_dn):\n",
    "    return datetime.date.fromordinal(int(matlab_dn) - 366)\n",
    "\n",
    "def compute_wiki_age(photo_year, birth_datenum):\n",
    "    photo_date = datetime.date(photo_year, 7, 1)\n",
    "    birth_date = matlab_datenum_to_date(birth_datenum)\n",
    "    delta = photo_date - birth_date\n",
    "    return delta.days / 365.2425\n",
    "\n",
    "\n",
    "def process_matfile(file_name):\n",
    "    # Load the data\n",
    "    data = loadmat(file_name)['wiki'][0, 0]\n",
    "    data_dict = {key: data[key] for key in data.dtype.names}\n",
    "\n",
    "    # Convert data into filename-based dictionary\n",
    "    filename_dict = {}\n",
    "\n",
    "    for i in range(len(data_dict['full_path'][0])):\n",
    "        # Remove invalid faces\n",
    "        if np.isinf(data_dict['face_score'][0][i]) or not np.isnan(data_dict['second_face_score'][0][i]):\n",
    "            continue\n",
    "\n",
    "        filename = data_dict['full_path'][0][i][0]\n",
    "        filename_dict[filename] = compute_wiki_age(data_dict['photo_taken'][0][i], data_dict['dob'][0][i])\n",
    "\n",
    "    return filename_dict\n",
    "\n",
    "# Load filenames anda ssociated data\n",
    "data = process_matfile(file_name)"
   ]
  },
  {
   "cell_type": "code",
   "execution_count": 11,
   "id": "de848d31-42b3-4271-b295-9986f432db6e",
   "metadata": {},
   "outputs": [
    {
     "name": "stdout",
     "output_type": "stream",
     "text": [
      "Image Ct.:  40147\n",
      "Cleaned Image Ct.:  40147\n",
      "Mean Age:  38.43463524557256\n",
      "Min. Age:  1.3525260614523227 Max. Age:  99.87337180092678\n"
     ]
    }
   ],
   "source": [
    "#some data cleaning to get rid of excessively large or negative values in the predicted age category\n",
    "print(\"Image Ct.: \", len(data))\n",
    "for key in list(data.keys()):\n",
    "    if data[key] > 100 or data[key] < 1:\n",
    "        del data[key]\n",
    "print(\"Cleaned Image Ct.: \",len(data))\n",
    "mean_val = sum(data.values()) / len(data)\n",
    "print(\"Mean Age: \", mean_val)\n",
    "print(\"Min. Age: \", min(data.values()), \"Max. Age: \", max(data.values()))"
   ]
  },
  {
   "cell_type": "code",
   "execution_count": 77,
   "id": "52c154cb-9def-4a6c-a7c5-d748c77d8d8d",
   "metadata": {},
   "outputs": [
    {
     "name": "stdout",
     "output_type": "stream",
     "text": [
      "Number of images loaded: 40216\n",
      "40216\n"
     ]
    }
   ],
   "source": [
    "# Load in images\n",
    "images = []\n",
    "for i in data.keys():  \n",
    "    img = cv2.imread('../data/wiki_crop/'+i)\n",
    "    images.append(img)\n",
    "\n",
    "print(f\"Number of images loaded: {len(images)}\")\n",
    "\n",
    "print(len(data))"
   ]
  },
  {
   "cell_type": "code",
   "execution_count": 86,
   "id": "0c1beabd-ca4a-4268-ab39-313b827a6e28",
   "metadata": {},
   "outputs": [],
   "source": [
    "# resize all images (can change width and height to what we find to be best)\n",
    "new_images = []\n",
    "width = 128\n",
    "height = 128\n",
    "for image in images:\n",
    "    new_im = cv2.resize(image, (width, height), interpolation=cv2.INTER_LINEAR)\n",
    "    new_im = cv2.cvtColor((cv2.resize(image, (width,height), interpolation=cv2.INTER_LINEAR)), cv2.COLOR_BGR2GRAY) # Source: https://www.geeksforgeeks.org/python-grayscaling-of-images-using-opencv/\n",
    "    new_images.append(new_im)"
   ]
  },
  {
   "cell_type": "code",
   "execution_count": 89,
   "id": "d9483bb2-6f04-4b98-b0bb-63df96f5b597",
   "metadata": {},
   "outputs": [],
   "source": [
    "classification = [data[key] for key in data.keys()]"
   ]
  },
  {
   "cell_type": "code",
   "execution_count": 88,
   "id": "0964e931-582f-4e40-8170-c7a97fba9394",
   "metadata": {},
   "outputs": [],
   "source": [
    "# split in to train and test sets\n",
    "x_train, x_test, y_train, y_test = train_test_split(new_images, classification, test_size = 0.2, random_state = 42)"
   ]
  },
  {
   "cell_type": "code",
   "execution_count": 90,
   "id": "60bca587-84dd-4c09-9ae0-1c893c8f1fae",
   "metadata": {},
   "outputs": [
    {
     "name": "stdout",
     "output_type": "stream",
     "text": [
      "X_train shape: (32172, 128, 128)\n",
      "y_train shape: (32172,)\n"
     ]
    }
   ],
   "source": [
    "# Normalize pixel values to range [0, 1]\n",
    "X_train = np.array(x_train, dtype='float32') / 255.0\n",
    "X_test = np.array(x_test, dtype='float32') / 255.0\n",
    "\n",
    "y_train = np.array(y_train, dtype='float32')\n",
    "y_test = np.array(y_test, dtype='float32')\n",
    "\n",
    "# Print shapes\n",
    "print(\"X_train shape:\", X_train.shape)\n",
    "print(\"y_train shape:\", y_train.shape)"
   ]
  },
  {
   "cell_type": "markdown",
   "id": "ed01b64d",
   "metadata": {},
   "source": [
    "#### Training"
   ]
  },
  {
   "cell_type": "code",
   "execution_count": null,
   "id": "09711e33-2a6d-4552-8391-7ac96d303d2d",
   "metadata": {},
   "outputs": [],
   "source": [
    "model = Sequential([\n",
    "    Conv2D(filters=16, kernel_size=(3, 3), activation='relu', input_shape=(128, 128, 1)), # z = 1 for grayscale, 3 for color \n",
    "    MaxPooling2D(),\n",
    "\n",
    "    Conv2D(filters=32, kernel_size=(3, 3), activation='relu'),\n",
    "    MaxPooling2D(), \n",
    "\n",
    "    Conv2D(filters=64, kernel_size=(3, 3), activation='relu'),\n",
    "    MaxPooling2D(), \n",
    "\n",
    "    Flatten(),\n",
    "\n",
    "    Dense(64, activation='relu'),\n",
    "    Dense(64, activation='relu'),\n",
    "    Dense(1, activation='linear')\n",
    "])\n",
    "\n",
    "model.compile(\n",
    "    optimizer=Adam(learning_rate=0.001),\n",
    "    loss=['mean_squared_error'],\n",
    "    metrics=[tf.keras.metrics.MeanSquaredError(), tf.keras.metrics.MeanAbsoluteError(), tf.keras.metrics.RootMeanSquaredError()]\n",
    ")"
   ]
  },
  {
   "cell_type": "code",
   "execution_count": 97,
   "id": "24bcd747-3ff4-42d0-a20b-bc46fe1cdc4d",
   "metadata": {},
   "outputs": [
    {
     "name": "stdout",
     "output_type": "stream",
     "text": [
      "Epoch 1/20\n",
      "\u001b[1m453/453\u001b[0m \u001b[32m━━━━━━━━━━━━━━━━━━━━\u001b[0m\u001b[37m\u001b[0m \u001b[1m18s\u001b[0m 38ms/step - loss: 423.1352 - mean_absolute_error: 15.0868 - mean_squared_error: 423.1352 - root_mean_squared_error: 20.2238 - val_loss: 215.5535 - val_mean_absolute_error: 11.7757 - val_mean_squared_error: 215.5535 - val_root_mean_squared_error: 14.6817\n",
      "Epoch 2/20\n",
      "\u001b[1m453/453\u001b[0m \u001b[32m━━━━━━━━━━━━━━━━━━━━\u001b[0m\u001b[37m\u001b[0m \u001b[1m17s\u001b[0m 38ms/step - loss: 379.3363 - mean_absolute_error: 11.7891 - mean_squared_error: 379.3363 - root_mean_squared_error: 19.2336 - val_loss: 203.8180 - val_mean_absolute_error: 10.5807 - val_mean_squared_error: 203.8180 - val_root_mean_squared_error: 14.2765\n",
      "Epoch 3/20\n",
      "\u001b[1m453/453\u001b[0m \u001b[32m━━━━━━━━━━━━━━━━━━━━\u001b[0m\u001b[37m\u001b[0m \u001b[1m17s\u001b[0m 38ms/step - loss: 569.2227 - mean_absolute_error: 11.4705 - mean_squared_error: 569.2227 - root_mean_squared_error: 23.0934 - val_loss: 189.9475 - val_mean_absolute_error: 10.1568 - val_mean_squared_error: 189.9475 - val_root_mean_squared_error: 13.7821\n",
      "Epoch 4/20\n",
      "\u001b[1m453/453\u001b[0m \u001b[32m━━━━━━━━━━━━━━━━━━━━\u001b[0m\u001b[37m\u001b[0m \u001b[1m17s\u001b[0m 37ms/step - loss: 405.8567 - mean_absolute_error: 11.0062 - mean_squared_error: 405.8567 - root_mean_squared_error: 19.7868 - val_loss: 174.7175 - val_mean_absolute_error: 9.8439 - val_mean_squared_error: 174.7175 - val_root_mean_squared_error: 13.2181\n",
      "Epoch 5/20\n",
      "\u001b[1m453/453\u001b[0m \u001b[32m━━━━━━━━━━━━━━━━━━━━\u001b[0m\u001b[37m\u001b[0m \u001b[1m17s\u001b[0m 37ms/step - loss: 356.5295 - mean_absolute_error: 10.6753 - mean_squared_error: 356.5295 - root_mean_squared_error: 18.5664 - val_loss: 163.2135 - val_mean_absolute_error: 9.8895 - val_mean_squared_error: 163.2135 - val_root_mean_squared_error: 12.7755\n",
      "Epoch 6/20\n",
      "\u001b[1m453/453\u001b[0m \u001b[32m━━━━━━━━━━━━━━━━━━━━\u001b[0m\u001b[37m\u001b[0m \u001b[1m17s\u001b[0m 38ms/step - loss: 394.8318 - mean_absolute_error: 10.6550 - mean_squared_error: 394.8318 - root_mean_squared_error: 19.4801 - val_loss: 163.8415 - val_mean_absolute_error: 9.7530 - val_mean_squared_error: 163.8415 - val_root_mean_squared_error: 12.8001\n",
      "Epoch 7/20\n",
      "\u001b[1m453/453\u001b[0m \u001b[32m━━━━━━━━━━━━━━━━━━━━\u001b[0m\u001b[37m\u001b[0m \u001b[1m17s\u001b[0m 37ms/step - loss: 287.7516 - mean_absolute_error: 10.1002 - mean_squared_error: 287.7516 - root_mean_squared_error: 16.7071 - val_loss: 156.7227 - val_mean_absolute_error: 9.4907 - val_mean_squared_error: 156.7227 - val_root_mean_squared_error: 12.5189\n",
      "Epoch 8/20\n",
      "\u001b[1m453/453\u001b[0m \u001b[32m━━━━━━━━━━━━━━━━━━━━\u001b[0m\u001b[37m\u001b[0m \u001b[1m16s\u001b[0m 36ms/step - loss: 173.4477 - mean_absolute_error: 9.7429 - mean_squared_error: 173.4477 - root_mean_squared_error: 13.1332 - val_loss: 236.2197 - val_mean_absolute_error: 11.1116 - val_mean_squared_error: 236.2197 - val_root_mean_squared_error: 15.3694\n",
      "Epoch 9/20\n",
      "\u001b[1m453/453\u001b[0m \u001b[32m━━━━━━━━━━━━━━━━━━━━\u001b[0m\u001b[37m\u001b[0m \u001b[1m17s\u001b[0m 36ms/step - loss: 433.4658 - mean_absolute_error: 10.4633 - mean_squared_error: 433.4658 - root_mean_squared_error: 20.4124 - val_loss: 152.4809 - val_mean_absolute_error: 9.2349 - val_mean_squared_error: 152.4809 - val_root_mean_squared_error: 12.3483\n",
      "Epoch 10/20\n",
      "\u001b[1m453/453\u001b[0m \u001b[32m━━━━━━━━━━━━━━━━━━━━\u001b[0m\u001b[37m\u001b[0m \u001b[1m16s\u001b[0m 36ms/step - loss: 285.1305 - mean_absolute_error: 9.6316 - mean_squared_error: 285.1305 - root_mean_squared_error: 16.5602 - val_loss: 160.8599 - val_mean_absolute_error: 9.9606 - val_mean_squared_error: 160.8599 - val_root_mean_squared_error: 12.6831\n",
      "Epoch 11/20\n",
      "\u001b[1m453/453\u001b[0m \u001b[32m━━━━━━━━━━━━━━━━━━━━\u001b[0m\u001b[37m\u001b[0m \u001b[1m17s\u001b[0m 37ms/step - loss: 314.3107 - mean_absolute_error: 9.5122 - mean_squared_error: 314.3107 - root_mean_squared_error: 17.3546 - val_loss: 154.3766 - val_mean_absolute_error: 9.8494 - val_mean_squared_error: 154.3766 - val_root_mean_squared_error: 12.4248\n",
      "Epoch 12/20\n",
      "\u001b[1m453/453\u001b[0m \u001b[32m━━━━━━━━━━━━━━━━━━━━\u001b[0m\u001b[37m\u001b[0m \u001b[1m17s\u001b[0m 37ms/step - loss: 197.4221 - mean_absolute_error: 9.0532 - mean_squared_error: 197.4221 - root_mean_squared_error: 13.7759 - val_loss: 155.1533 - val_mean_absolute_error: 9.5807 - val_mean_squared_error: 155.1533 - val_root_mean_squared_error: 12.4561\n",
      "Epoch 13/20\n",
      "\u001b[1m453/453\u001b[0m \u001b[32m━━━━━━━━━━━━━━━━━━━━\u001b[0m\u001b[37m\u001b[0m \u001b[1m17s\u001b[0m 37ms/step - loss: 184.7079 - mean_absolute_error: 9.3425 - mean_squared_error: 184.7079 - root_mean_squared_error: 13.4399 - val_loss: 155.3839 - val_mean_absolute_error: 9.3052 - val_mean_squared_error: 155.3839 - val_root_mean_squared_error: 12.4653\n",
      "Epoch 14/20\n",
      "\u001b[1m453/453\u001b[0m \u001b[32m━━━━━━━━━━━━━━━━━━━━\u001b[0m\u001b[37m\u001b[0m \u001b[1m17s\u001b[0m 36ms/step - loss: 258.3424 - mean_absolute_error: 9.6141 - mean_squared_error: 258.3424 - root_mean_squared_error: 15.8278 - val_loss: 165.6988 - val_mean_absolute_error: 9.9816 - val_mean_squared_error: 165.6988 - val_root_mean_squared_error: 12.8724\n",
      "Epoch 15/20\n",
      "\u001b[1m453/453\u001b[0m \u001b[32m━━━━━━━━━━━━━━━━━━━━\u001b[0m\u001b[37m\u001b[0m \u001b[1m16s\u001b[0m 36ms/step - loss: 337.1856 - mean_absolute_error: 10.0352 - mean_squared_error: 337.1856 - root_mean_squared_error: 17.9983 - val_loss: 149.8104 - val_mean_absolute_error: 9.3578 - val_mean_squared_error: 149.8104 - val_root_mean_squared_error: 12.2397\n",
      "Epoch 16/20\n",
      "\u001b[1m453/453\u001b[0m \u001b[32m━━━━━━━━━━━━━━━━━━━━\u001b[0m\u001b[37m\u001b[0m \u001b[1m17s\u001b[0m 36ms/step - loss: 145.4434 - mean_absolute_error: 8.8490 - mean_squared_error: 145.4434 - root_mean_squared_error: 12.0565 - val_loss: 458.3438 - val_mean_absolute_error: 15.7793 - val_mean_squared_error: 458.3438 - val_root_mean_squared_error: 21.4090\n",
      "Epoch 17/20\n",
      "\u001b[1m453/453\u001b[0m \u001b[32m━━━━━━━━━━━━━━━━━━━━\u001b[0m\u001b[37m\u001b[0m \u001b[1m17s\u001b[0m 36ms/step - loss: 238.7281 - mean_absolute_error: 11.5709 - mean_squared_error: 238.7281 - root_mean_squared_error: 15.3546 - val_loss: 168.6953 - val_mean_absolute_error: 10.2864 - val_mean_squared_error: 168.6953 - val_root_mean_squared_error: 12.9883\n",
      "Epoch 18/20\n",
      "\u001b[1m453/453\u001b[0m \u001b[32m━━━━━━━━━━━━━━━━━━━━\u001b[0m\u001b[37m\u001b[0m \u001b[1m17s\u001b[0m 36ms/step - loss: 177.2009 - mean_absolute_error: 9.2764 - mean_squared_error: 177.2009 - root_mean_squared_error: 13.2066 - val_loss: 147.2409 - val_mean_absolute_error: 9.3301 - val_mean_squared_error: 147.2409 - val_root_mean_squared_error: 12.1343\n",
      "Epoch 19/20\n",
      "\u001b[1m453/453\u001b[0m \u001b[32m━━━━━━━━━━━━━━━━━━━━\u001b[0m\u001b[37m\u001b[0m \u001b[1m17s\u001b[0m 36ms/step - loss: 133.8348 - mean_absolute_error: 8.5636 - mean_squared_error: 133.8348 - root_mean_squared_error: 11.5669 - val_loss: 146.3879 - val_mean_absolute_error: 9.1299 - val_mean_squared_error: 146.3879 - val_root_mean_squared_error: 12.0991\n",
      "Epoch 20/20\n",
      "\u001b[1m453/453\u001b[0m \u001b[32m━━━━━━━━━━━━━━━━━━━━\u001b[0m\u001b[37m\u001b[0m \u001b[1m17s\u001b[0m 37ms/step - loss: 134.3263 - mean_absolute_error: 8.5272 - mean_squared_error: 134.3263 - root_mean_squared_error: 11.5633 - val_loss: 138.9816 - val_mean_absolute_error: 8.8875 - val_mean_squared_error: 138.9816 - val_root_mean_squared_error: 11.7890\n"
     ]
    }
   ],
   "source": [
    "history = model.fit(\n",
    "    X_train, y_train,\n",
    "    validation_split=0.1,  # 10% of training as validation\n",
    "    epochs=20,\n",
    "    batch_size=64,\n",
    "    verbose=1\n",
    ")"
   ]
  },
  {
   "cell_type": "code",
   "execution_count": 103,
   "id": "1270e289",
   "metadata": {},
   "outputs": [
    {
     "name": "stdout",
     "output_type": "stream",
     "text": [
      "\u001b[1m252/252\u001b[0m \u001b[32m━━━━━━━━━━━━━━━━━━━━\u001b[0m\u001b[37m\u001b[0m \u001b[1m2s\u001b[0m 8ms/step - loss: 151.4354 - mean_absolute_error: 9.1483 - mean_squared_error: 151.4354 - root_mean_squared_error: 12.3042\n",
      "[151.74244689941406, 151.74244689941406, 9.05075740814209, 12.318378448486328]\n",
      "\u001b[1m252/252\u001b[0m \u001b[32m━━━━━━━━━━━━━━━━━━━━\u001b[0m\u001b[37m\u001b[0m \u001b[1m2s\u001b[0m 7ms/step\n",
      "Accuracy on testing sample:  0.37294878170064644\n"
     ]
    }
   ],
   "source": [
    "eval = model.evaluate(X_test, y_test, verbose=1)\n",
    "print(eval)\n",
    "predictions = model.predict(X_test)\n",
    "pred_classes = np.argmax(predictions, axis=1)\n",
    "correct = 0\n",
    "for i in range(len(predictions)):\n",
    "    if abs(predictions[i] - y_test[i]) <= 5:\n",
    "        correct += 1\n",
    "\n",
    "print(\"Accuracy on testing sample: \", correct / len(predictions))"
   ]
  },
  {
   "cell_type": "markdown",
   "id": "4ef3b012",
   "metadata": {},
   "source": [
    "#### Results"
   ]
  },
  {
   "cell_type": "code",
   "execution_count": 99,
   "id": "6bce1d76-1e6b-449c-a810-51354f1126f9",
   "metadata": {},
   "outputs": [
    {
     "data": {
      "image/png": "[encoded data removed]",
      "text/plain": [
       "<Figure size 640x480 with 1 Axes>"
      ]
     },
     "metadata": {},
     "output_type": "display_data"
    }
   ],
   "source": [
    "mae_1 = history.history['mean_absolute_error']\n",
    "val_mae_1 = history.history['val_mean_absolute_error']\n",
    "\n",
    "plt.plot(mae_1, label='Train MAE')\n",
    "plt.plot(val_mae_1, label='Validation MAE')\n",
    "plt.xticks(np.arange(0, 20, 2))\n",
    "plt.title('Model Performance, Version 2 Trial 1')\n",
    "plt.ylabel('MAE')\n",
    "plt.xlabel('Epochs')\n",
    "plt.legend()\n",
    "plt.show()\n"
   ]
  }
 ],
 "metadata": {
  "kernelspec": {
   "display_name": "CSE404Project",
   "language": "python",
   "name": "python3"
  },
  "language_info": {
   "codemirror_mode": {
    "name": "ipython",
    "version": 3
   },
   "file_extension": ".py",
   "mimetype": "text/x-python",
   "name": "python",
   "nbconvert_exporter": "python",
   "pygments_lexer": "ipython3",
   "version": "3.11.11"
  }
 },
 "nbformat": 4,
 "nbformat_minor": 5
}
